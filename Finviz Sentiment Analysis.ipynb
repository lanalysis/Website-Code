{
 "cells": [
  {
   "cell_type": "code",
   "execution_count": 1,
   "metadata": {},
   "outputs": [],
   "source": [
    "from urllib.request import urlopen, Request\n",
    "from bs4 import BeautifulSoup\n",
    "from nltk.sentiment.vader import SentimentIntensityAnalyzer\n",
    "import pandas as pd\n",
    "import matplotlib.pyplot as plt"
   ]
  },
  {
   "cell_type": "code",
   "execution_count": 2,
   "metadata": {},
   "outputs": [],
   "source": [
    "url = 'https://finviz.com/quote.ashx?t='\n",
    "tickers = ['AMZN','AAPL','FB']"
   ]
  },
  {
   "cell_type": "code",
   "execution_count": 3,
   "metadata": {},
   "outputs": [
    {
     "name": "stdout",
     "output_type": "stream",
     "text": [
      "ticker          AAPL      AMZN        FB\n",
      "date                                    \n",
      "2021-09-20       NaN       NaN  0.142633\n",
      "2021-09-21  0.130221  0.162686  0.181304\n",
      "2021-09-22 -0.019160  0.257165 -0.046684\n",
      "2021-09-23 -0.046783  0.241035  0.011128\n",
      "2021-09-24  0.260692  0.317474  0.157429\n",
      "2021-09-25  0.110100  0.247436 -0.236833\n"
     ]
    },
    {
     "data": {
      "text/plain": [
       "<Figure size 720x576 with 0 Axes>"
      ]
     },
     "metadata": {},
     "output_type": "display_data"
    },
    {
     "data": {
      "image/png": "[encoded data removed]",
      "text/plain": [
       "<Figure size 432x288 with 1 Axes>"
      ]
     },
     "metadata": {
      "needs_background": "light"
     },
     "output_type": "display_data"
    }
   ],
   "source": [
    "news_tables = {}\n",
    "\n",
    "for ticker in tickers:\n",
    "    url = finviz_url + ticker\n",
    "    \n",
    "    req = Request(url=url, headers ={'user-agent':'my-app'})\n",
    "    response = urlopen(req)\n",
    "    html = BeautifulSoup(response,'html')\n",
    "    news_table = html.find(id='news-table')\n",
    "    news_tables[ticker]=news_table\n",
    "    \n",
    "p_data=[]\n",
    "\n",
    "for ticker, news_table in news_tables.items():\n",
    "    for row in news_table.findAll('tr'):\n",
    "        headline = row.a.get_text()\n",
    "        date = row.td.text.split(' ')\n",
    "        \n",
    "        if len(date)==1:\n",
    "            time = date[0]\n",
    "        else:\n",
    "            date = date [0]\n",
    "            time = date [1]\n",
    "        p_data.append([ticker,date,time,headline])\n",
    "\n",
    "df = pd.DataFrame(p_data, columns =['ticker','date','time','headline'])\n",
    "v = SentimentIntensityAnalyzer()\n",
    "\n",
    "f = lambda headline: v.polarity_scores(headline)['compound']\n",
    "df['compound'] = df['headline'].apply(f)\n",
    "df['date'] = pd.to_datetime(df.date).dt.date\n",
    "\n",
    "mean_df = df.groupby(['ticker','date']).mean()\n",
    "mean_df = mean_df.unstack()\n",
    "mean_df=mean_df.xs('compound', axis = 'columns').transpose()\n",
    "mean_df.plot(kind='bar')\n",
    "print(mean_df)\n"
   ]
  },
  {
   "cell_type": "code",
   "execution_count": null,
   "metadata": {},
   "outputs": [],
   "source": []
  },
  {
   "cell_type": "code",
   "execution_count": null,
   "metadata": {},
   "outputs": [],
   "source": []
  }
 ],
 "metadata": {
  "kernelspec": {
   "display_name": "Python 3",
   "language": "python",
   "name": "python3"
  },
  "language_info": {
   "codemirror_mode": {
    "name": "ipython",
    "version": 3
   },
   "file_extension": ".py",
   "mimetype": "text/x-python",
   "name": "python",
   "nbconvert_exporter": "python",
   "pygments_lexer": "ipython3",
   "version": "3.8.8"
  }
 },
 "nbformat": 4,
 "nbformat_minor": 2
}
