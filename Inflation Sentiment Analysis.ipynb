{
 "cells": [
  {
   "cell_type": "code",
   "execution_count": 46,
   "id": "465b03d7",
   "metadata": {},
   "outputs": [],
   "source": [
    "from urllib.request import urlopen, Request\n",
    "from bs4 import BeautifulSoup\n",
    "from nltk.sentiment.vader import SentimentIntensityAnalyzer\n",
    "import pandas as pd\n",
    "import matplotlib.pyplot as plt"
   ]
  },
  {
   "cell_type": "code",
   "execution_count": 54,
   "id": "efd2c9d8",
   "metadata": {},
   "outputs": [],
   "source": [
    "url = 'https://www.cnbc.com/id/10000793'"
   ]
  },
  {
   "cell_type": "code",
   "execution_count": 88,
   "id": "e88a4dd8",
   "metadata": {},
   "outputs": [],
   "source": [
    "news_tables = {}\n",
    "    \n",
    "req = Request(url=url, headers ={'user-agent':'my-app'})\n",
    "response = urlopen(req)\n",
    "    \n",
    "html = BeautifulSoup(response,'html')\n",
    "news_table = html.findAll(\"div\", {\"class\": \"headline\"})\n",
    "news_tables=news_table\n"
   ]
  },
  {
   "cell_type": "code",
   "execution_count": 58,
   "id": "f22c41fd",
   "metadata": {},
   "outputs": [
    {
     "data": {
      "text/plain": [
       "[<div class=\"headline\">\n",
       " <a class=\"\" data-nodeid=\"106961786\" href=\"/2021/10/18/american-plastic-toys-ceo-john-gessert-sees-higher-inflation-persisting.html\">\t\t    \t                 \n",
       "             CEO of maker of U.S.-manufactured toys sees higher inflation persisting into late 2022\n",
       " \t\t\t                </a> </div>,\n",
       " <div class=\"headline\">\n",
       " <a class=\"\" data-nodeid=\"106961260\" data-videoid=\"7000214839\" data-videotype=\"\" href=\"/video/2021/10/15/inflation-is-top-market-driver-through-year-end-analyst-says.html\">\t\t    \t                 \n",
       "             Inflation is top market driver through year-end, analyst says<span class=\"cnbc-font-icon icon-cnbc-video\"> </span>  \n",
       " \t\t\t                </a> </div>,\n",
       " <div class=\"headline\">\n",
       " <a class=\"\" data-nodeid=\"106961106\" href=\"/2021/10/15/heres-why-social-security-benefits-cant-go-up-more-every-year.html\">\t\t    \t                 \n",
       "             Social Security benefits get biggest hike in 40 years. Here's why they can't jump so much every year\n",
       " \t\t\t                </a> </div>,\n",
       " <div class=\"headline\">\n",
       " <a class=\"\" data-nodeid=\"106961133\" data-videoid=\"7000214807\" data-videotype=\"\" href=\"/video/2021/10/15/supply-chain-headwinds-will-last-through-first-half-of-2022-wells-fargo-analyst.html\">\t\t    \t                 \n",
       "             Supply chain headwinds will last through first half of 2022: Wells Fargo analyst<span class=\"cnbc-font-icon icon-cnbc-video\"> </span>  \n",
       " \t\t\t                </a> </div>,\n",
       " <div class=\"headline\">\n",
       " <a class=\"\" data-nodeid=\"106961071\" data-videoid=\"7000214793\" data-videotype=\"\" href=\"/video/2021/10/15/richmond-fed-president-barkin-on-inflation-and-supply-chain-woes.html\">\t\t    \t                 \n",
       "             Richmond Fed President Barkin on inflation and supply chain woes<span class=\"cnbc-font-icon icon-cnbc-video\"> </span>  \n",
       " \t\t\t                </a> </div>,\n",
       " <div class=\"headline\">\n",
       " <a class=\"\" data-nodeid=\"106961055\" data-videoid=\"7000214791\" data-videotype=\"\" href=\"/video/2021/10/15/fed-has-systematically-misunderstood-economy-this-year-fmr-cea-chair.html\">\t\t    \t                 \n",
       "             Fed has systematically misunderstood economy this year: Fmr. CEA chair<span class=\"cnbc-font-icon icon-cnbc-video\"> </span>  \n",
       " \t\t\t                </a> </div>,\n",
       " <div class=\"headline\">\n",
       " <a class=\"\" data-nodeid=\"106960902\" href=\"/2021/10/15/china-risks-making-big-mistakes-with-crackdown-ex-imf-chief-economist.html\">\t\t    \t                 \n",
       "             China risks making ‘big mistakes’ with widespread crackdown, says ex-IMF chief economist\n",
       " \t\t\t                </a> </div>,\n",
       " <div class=\"headline\">\n",
       " <a class=\"\" data-nodeid=\"106960861\" data-videoid=\"7000214715\" data-videotype=\"\" href=\"/video/2021/10/15/inflation-could-be-higher-for-longer-former-imf-chief-economist.html\">\t\t    \t                 \n",
       "             Inflation could be 'higher for longer,' says former IMF chief economist<span class=\"cnbc-font-icon icon-cnbc-video\"> </span>  \n",
       " \t\t\t                </a> </div>,\n",
       " <div class=\"headline\">\n",
       " <a class=\"\" data-nodeid=\"106960550\" href=\"/2021/10/14/71percent-of-retirement-age-investors-worry-inflation-will-hurt-their-savings.html\">\t\t    \t                 \n",
       "             71% of retirement age investors worry rising inflation will negatively affect their savings\n",
       " \t\t\t                </a> </div>,\n",
       " <div class=\"headline\">\n",
       " <a class=\"\" data-nodeid=\"106960539\" data-videoid=\"7000214595\" data-videotype=\"\" href=\"/video/2021/10/14/here-are-the-risks-still-facing-the-market.html\">\t\t    \t                 \n",
       "             Here are the risks still facing the market<span class=\"cnbc-font-icon icon-cnbc-video\"> </span>  \n",
       " \t\t\t                </a> </div>,\n",
       " <div class=\"headline\">\n",
       " <a class=\"\" data-nodeid=\"106959862\" href=\"/2021/10/14/why-a-top-currency-strategist-decided-now-is-the-time-to-sell-the-dollar.html\">\t\t    \t                 \n",
       "             Why a top currency strategist decided now is the time to sell the dollar<span class=\"cnbc-font-icon icon-cnbc-pro\"></span>\n",
       " </a> </div>,\n",
       " <div class=\"headline\">\n",
       " <a class=\"\" data-nodeid=\"106960160\" data-videoid=\"7000214450\" data-videotype=\"\" href=\"/video/2021/10/14/inflationary-pressure-in-china-appears-quite-persistent-economist.html\">\t\t    \t                 \n",
       "             Inflationary pressure in China, especially on producer prices, appears 'quite persistent': Economist<span class=\"cnbc-font-icon icon-cnbc-video\"> </span>  \n",
       " \t\t\t                </a> </div>,\n",
       " <div class=\"headline\">\n",
       " <a class=\"\" data-nodeid=\"106960143\" data-videoid=\"7000214447\" data-videotype=\"\" href=\"/video/2021/10/14/mas-tightening-move-shows-confidence-in-singapore-economy-economist.html\">\t\t    \t                 \n",
       "             Singapore central bank's tightening move shows confidence in recovery, says economist<span class=\"cnbc-font-icon icon-cnbc-video\"> </span>  \n",
       " \t\t\t                </a> </div>,\n",
       " <div class=\"headline\">\n",
       " <a class=\"\" data-nodeid=\"106960047\" data-videoid=\"7000214399\" data-videotype=\"\" href=\"/video/2021/10/13/transportation-sec-buttigieg-this-is-one-more-reason-we-need-to-look-at-domestic-sourcing.html\">\t\t    \t                 \n",
       "             Transportation Sec. Buttigieg: This is one more reason we need to look at domestic sourcing<span class=\"cnbc-font-icon icon-cnbc-video\"> </span>  \n",
       " \t\t\t                </a> </div>,\n",
       " <div class=\"headline\">\n",
       " <a class=\"\" data-nodeid=\"106960031\" data-videoid=\"7000214396\" data-videotype=\"2\" href=\"/video/2021/10/13/watch-cnbcs-full-interview-with-marathon-asset-managements-ceo-bruce-richards.html\">\t\t    \t                 \n",
       "             Watch CNBC's full interview with Marathon Asset Management's CEO, Bruce Richards<span class=\"cnbc-font-icon icon-cnbc-pro\"></span><span class=\"cnbc-font-icon icon-cnbc-video\"> </span>  \n",
       " \t\t\t                </a> </div>,\n",
       " <div class=\"headline\">\n",
       " <a class=\"\" data-nodeid=\"106959922\" data-videoid=\"7000214374\" data-videotype=\"\" href=\"/video/2021/10/13/the-real-danger-is-in-rate-hikes-bofa-head-of-global-economics-says.html\">\t\t    \t                 \n",
       "             The 'real danger' is in rate hikes, BofA head of global economics says<span class=\"cnbc-font-icon icon-cnbc-video\"> </span>  \n",
       " \t\t\t                </a> </div>,\n",
       " <div class=\"headline\">\n",
       " <a class=\"\" data-nodeid=\"106959654\" href=\"/2021/10/13/social-security-cost-of-living-adjustment-will-be-5point9percent-in-2022.html\">\t\t    \t                 \n",
       "             Social Security cost-of-living adjustment will be 5.9% in 2022, biggest annual hike in 40 years\n",
       " \t\t\t                </a> </div>,\n",
       " <div class=\"headline\">\n",
       " <a class=\"\" data-nodeid=\"106959614\" href=\"/2021/10/13/the-consumer-price-index-rose-5point4percent-year-over-year-in-september-vs-5point3percent-estimate.html\">\t\t    \t                 \n",
       "             Consumer prices rise more than expected as energy costs surge\n",
       " \t\t\t                </a> </div>,\n",
       " <div class=\"headline\">\n",
       " <a class=\"\" data-nodeid=\"106959410\" data-videoid=\"7000214236\" data-videotype=\"\" href=\"/video/2021/10/13/china-common-prosperity-theme-will-impact-economic-growth-jpmorgan.html\">\t\t    \t                 \n",
       "             JPMorgan on the economic implications of China's push for 'common prosperity'<span class=\"cnbc-font-icon icon-cnbc-video\"> </span>  \n",
       " \t\t\t                </a> </div>,\n",
       " <div class=\"headline\">\n",
       " <a class=\"\" data-nodeid=\"106959289\" data-videoid=\"7000214179\" data-videotype=\"\" href=\"/video/2021/10/12/st-louis-feds-bullard-supply-shock-accommodated-by-easy-monetary-policy-leads-to-inflation.html\">\t\t    \t                 \n",
       "             St. Louis Fed's Bullard: Supply shock accommodated by easy monetary policy leads to inflation<span class=\"cnbc-font-icon icon-cnbc-video\"> </span>  \n",
       " \t\t\t                </a> </div>]"
      ]
     },
     "execution_count": 58,
     "metadata": {},
     "output_type": "execute_result"
    }
   ],
   "source": [
    "news_tables"
   ]
  },
  {
   "cell_type": "code",
   "execution_count": 126,
   "id": "f0b60cd8",
   "metadata": {},
   "outputs": [
    {
     "name": "stdout",
     "output_type": "stream",
     "text": [
      "                                                 news\n",
      "0   [\\t\\t    \\t                 \\n            CEO ...\n",
      "1   [\\t\\t    \\t                 \\n            Infl...\n",
      "2   [\\t\\t    \\t                 \\n            Soci...\n",
      "3   [\\t\\t    \\t                 \\n            Supp...\n",
      "4   [\\t\\t    \\t                 \\n            Rich...\n",
      "5   [\\t\\t    \\t                 \\n            Fed ...\n",
      "6   [\\t\\t    \\t                 \\n            Chin...\n",
      "7   [\\t\\t    \\t                 \\n            Infl...\n",
      "8   [\\t\\t    \\t                 \\n            71% ...\n",
      "9   [\\t\\t    \\t                 \\n            Here...\n",
      "10  [\\t\\t    \\t                 \\n            Why ...\n",
      "11  [\\t\\t    \\t                 \\n            Infl...\n",
      "12  [\\t\\t    \\t                 \\n            Sing...\n",
      "13  [\\t\\t    \\t                 \\n            Tran...\n",
      "14  [\\t\\t    \\t                 \\n            Watc...\n",
      "15  [\\t\\t    \\t                 \\n            The ...\n",
      "16  [\\t\\t    \\t                 \\n            Soci...\n",
      "17  [\\t\\t    \\t                 \\n            Cons...\n",
      "18  [\\t\\t    \\t                 \\n            JPMo...\n",
      "19  [\\t\\t    \\t                 \\n            St. ...\n",
      "                                                                                                                                                                                news\n",
      "0                          [\\t\\t    \\t                 \\n            CEO of maker of U.S.-manufactured toys sees higher inflation persisting into late 2022\\n\\t\\t\\t                ]\n",
      "1                                          [\\t\\t    \\t                 \\n            Inflation is top market driver through year-end, analyst says, [ ],   \\n\\t\\t\\t                ]\n",
      "2            [\\t\\t    \\t                 \\n            Social Security benefits get biggest hike in 40 years. Here's why they can't jump so much every year\\n\\t\\t\\t                ]\n",
      "3                       [\\t\\t    \\t                 \\n            Supply chain headwinds will last through first half of 2022: Wells Fargo analyst, [ ],   \\n\\t\\t\\t                ]\n",
      "4                                       [\\t\\t    \\t                 \\n            Richmond Fed President Barkin on inflation and supply chain woes, [ ],   \\n\\t\\t\\t                ]\n",
      "5                                 [\\t\\t    \\t                 \\n            Fed has systematically misunderstood economy this year: Fmr. CEA chair, [ ],   \\n\\t\\t\\t                ]\n",
      "6                        [\\t\\t    \\t                 \\n            China risks making ‘big mistakes’ with widespread crackdown, says ex-IMF chief economist\\n\\t\\t\\t                ]\n",
      "7                                [\\t\\t    \\t                 \\n            Inflation could be 'higher for longer,' says former IMF chief economist, [ ],   \\n\\t\\t\\t                ]\n",
      "8                     [\\t\\t    \\t                 \\n            71% of retirement age investors worry rising inflation will negatively affect their savings\\n\\t\\t\\t                ]\n",
      "9                                                             [\\t\\t    \\t                 \\n            Here are the risks still facing the market, [ ],   \\n\\t\\t\\t                ]\n",
      "10                                                       [\\t\\t    \\t                 \\n            Why a top currency strategist decided now is the time to sell the dollar, [], \\n]\n",
      "11  [\\t\\t    \\t                 \\n            Inflationary pressure in China, especially on producer prices, appears 'quite persistent': Economist, [ ],   \\n\\t\\t\\t                ]\n",
      "12                 [\\t\\t    \\t                 \\n            Singapore central bank's tightening move shows confidence in recovery, says economist, [ ],   \\n\\t\\t\\t                ]\n",
      "13           [\\t\\t    \\t                 \\n            Transportation Sec. Buttigieg: This is one more reason we need to look at domestic sourcing, [ ],   \\n\\t\\t\\t                ]\n",
      "14                  [\\t\\t    \\t                 \\n            Watch CNBC's full interview with Marathon Asset Management's CEO, Bruce Richards, [], [ ],   \\n\\t\\t\\t                ]\n",
      "15                                [\\t\\t    \\t                 \\n            The 'real danger' is in rate hikes, BofA head of global economics says, [ ],   \\n\\t\\t\\t                ]\n",
      "16                [\\t\\t    \\t                 \\n            Social Security cost-of-living adjustment will be 5.9% in 2022, biggest annual hike in 40 years\\n\\t\\t\\t                ]\n",
      "17                                                  [\\t\\t    \\t                 \\n            Consumer prices rise more than expected as energy costs surge\\n\\t\\t\\t                ]\n",
      "18                         [\\t\\t    \\t                 \\n            JPMorgan on the economic implications of China's push for 'common prosperity', [ ],   \\n\\t\\t\\t                ]\n",
      "19         [\\t\\t    \\t                 \\n            St. Louis Fed's Bullard: Supply shock accommodated by easy monetary policy leads to inflation, [ ],   \\n\\t\\t\\t                ]\n"
     ]
    },
    {
     "name": "stderr",
     "output_type": "stream",
     "text": [
      "D:\\Anaconda\\lib\\site-packages\\pandas\\core\\internals\\construction.py:309: VisibleDeprecationWarning: Creating an ndarray from ragged nested sequences (which is a list-or-tuple of lists-or-tuples-or ndarrays with different lengths or shapes) is deprecated. If you meant to do this, you must specify 'dtype=object' when creating the ndarray\n",
      "  values = np.array([convert(v) for v in values])\n"
     ]
    }
   ],
   "source": [
    "df = pd.DataFrame(news_tables)\n",
    "del df[0]\n",
    "del df[2]\n",
    "df = df.rename(columns={1: 'news'})\n",
    "    \n",
    "print(df)\n",
    "news_1 = df.to_string()\n",
    "print(news_1)"
   ]
  },
  {
   "cell_type": "code",
   "execution_count": 147,
   "id": "e22a9354",
   "metadata": {},
   "outputs": [
    {
     "data": {
      "text/plain": [
       "{'neg': 0.056, 'neu': 0.879, 'pos': 0.065, 'compound': 0.296}"
      ]
     },
     "execution_count": 147,
     "metadata": {},
     "output_type": "execute_result"
    }
   ],
   "source": [
    "vader.polarity_scores(news_1)"
   ]
  },
  {
   "cell_type": "code",
   "execution_count": null,
   "id": "9dc8b797",
   "metadata": {},
   "outputs": [],
   "source": []
  }
 ],
 "metadata": {
  "kernelspec": {
   "display_name": "Python 3",
   "language": "python",
   "name": "python3"
  },
  "language_info": {
   "codemirror_mode": {
    "name": "ipython",
    "version": 3
   },
   "file_extension": ".py",
   "mimetype": "text/x-python",
   "name": "python",
   "nbconvert_exporter": "python",
   "pygments_lexer": "ipython3",
   "version": "3.8.8"
  }
 },
 "nbformat": 4,
 "nbformat_minor": 5
}
