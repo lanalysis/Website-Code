{
 "cells": [
  {
   "cell_type": "code",
   "execution_count": 127,
   "id": "b6e6e8e4",
   "metadata": {},
   "outputs": [],
   "source": [
    "from urllib.request import urlopen, Request\n",
    "from bs4 import BeautifulSoup\n",
    "from nltk.sentiment.vader import SentimentIntensityAnalyzer\n",
    "import pandas as pd\n",
    "import matplotlib.pyplot as plt"
   ]
  },
  {
   "cell_type": "code",
   "execution_count": 215,
   "id": "c5dfe590",
   "metadata": {},
   "outputs": [],
   "source": [
    "finviz_url = 'https://www.google.com/finance/quote/'\n",
    "tickers = ['AAPL:NASDAQ']"
   ]
  },
  {
   "cell_type": "code",
   "execution_count": 216,
   "id": "d343b564",
   "metadata": {},
   "outputs": [],
   "source": [
    "news_tables = {}\n",
    "\n",
    "for ticker in tickers:\n",
    "    url = finviz_url + ticker\n",
    "    \n",
    "    req = Request(url=url, headers ={'user-agent':'my-app'})\n",
    "    response = urlopen(req)\n",
    "    \n",
    "    html = BeautifulSoup(response,'html')\n",
    "    news_table = html.findAll(\"div\", {\"class\": \"AoCdqe\"})\n",
    "    news_tables[ticker]=news_table\n"
   ]
  },
  {
   "cell_type": "code",
   "execution_count": 217,
   "id": "1af5d7eb",
   "metadata": {},
   "outputs": [
    {
     "name": "stdout",
     "output_type": "stream",
     "text": [
      "0    Is Apple Finally Listening To Consumers And Le...\n",
      "1    Apple’s anti-fraud chief said company was ‘the...\n",
      "2    Apple employees are organizing to push for 're...\n",
      "3    Apple delays return to office until January as...\n",
      "4                  AAPL How COVID Affects Apple (AAPL)\n",
      "5      Top Stock Reports for Apple, Home Depot & Deere\n",
      "Name: AAPL:NASDAQ, dtype: object\n"
     ]
    }
   ],
   "source": [
    "for ticker in news_tables:\n",
    "    df = pd.DataFrame(news_tables[ticker])\n",
    "    df[ticker]=df\n",
    "    print(df[ticker])\n",
    "    \n",
    "vader = SentimentIntensityAnalyzer()\n",
    "\n"
   ]
  },
  {
   "cell_type": "code",
   "execution_count": 218,
   "id": "b788b25b",
   "metadata": {},
   "outputs": [
    {
     "name": "stdout",
     "output_type": "stream",
     "text": [
      "                                                   0  \\\n",
      "0  Is Apple Finally Listening To Consumers And Le...   \n",
      "1  Apple’s anti-fraud chief said company was ‘the...   \n",
      "2  Apple employees are organizing to push for 're...   \n",
      "3  Apple delays return to office until January as...   \n",
      "4                AAPL How COVID Affects Apple (AAPL)   \n",
      "5    Top Stock Reports for Apple, Home Depot & Deere   \n",
      "\n",
      "                                         AAPL:NASDAQ   score  \n",
      "0  Is Apple Finally Listening To Consumers And Le...  0.0000  \n",
      "1  Apple’s anti-fraud chief said company was ‘the...  0.6369  \n",
      "2  Apple employees are organizing to push for 're...  0.0000  \n",
      "3  Apple delays return to office until January as...  0.0000  \n",
      "4                AAPL How COVID Affects Apple (AAPL)  0.0000  \n",
      "5    Top Stock Reports for Apple, Home Depot & Deere  0.2023  \n"
     ]
    }
   ],
   "source": [
    "f = lambda ticker: vader.polarity_scores(ticker)['compound']\n",
    "\n",
    "df['score'] = df[ticker].apply(f) #add some sort of for loop here to go thru all the tickers\n",
    "print(df)"
   ]
  },
  {
   "cell_type": "code",
   "execution_count": null,
   "id": "91a35286",
   "metadata": {},
   "outputs": [],
   "source": []
  }
 ],
 "metadata": {
  "kernelspec": {
   "display_name": "Python 3",
   "language": "python",
   "name": "python3"
  },
  "language_info": {
   "codemirror_mode": {
    "name": "ipython",
    "version": 3
   },
   "file_extension": ".py",
   "mimetype": "text/x-python",
   "name": "python",
   "nbconvert_exporter": "python",
   "pygments_lexer": "ipython3",
   "version": "3.8.8"
  }
 },
 "nbformat": 4,
 "nbformat_minor": 5
}
